{
  "nbformat": 4,
  "nbformat_minor": 0,
  "metadata": {
    "colab": {
      "provenance": [],
      "authorship_tag": "ABX9TyMDQy3ycxOGxKt+s7PlMWx3",
      "include_colab_link": true
    },
    "kernelspec": {
      "name": "python3",
      "display_name": "Python 3"
    },
    "language_info": {
      "name": "python"
    }
  },
  "cells": [
    {
      "cell_type": "markdown",
      "metadata": {
        "id": "view-in-github",
        "colab_type": "text"
      },
      "source": [
        "<a href=\"https://colab.research.google.com/github/MOID-UDDIN/project-6-assignments/blob/main/Project_6_Assignments.ipynb\" target=\"_parent\"><img src=\"https://colab.research.google.com/assets/colab-badge.svg\" alt=\"Open In Colab\"/></a>"
      ]
    },
    {
      "cell_type": "markdown",
      "source": [
        "# **06_Build_Compose_and_Decorate_A_Complete_Traditional_OOP_Practice_Series**"
      ],
      "metadata": {
        "id": "qeOXIu6tghsY"
      }
    },
    {
      "cell_type": "markdown",
      "source": [
        "## **1. Using self**"
      ],
      "metadata": {
        "id": "sCq_vdSCgt7L"
      }
    },
    {
      "cell_type": "code",
      "execution_count": 7,
      "metadata": {
        "colab": {
          "base_uri": "https://localhost:8080/"
        },
        "id": "vsh4tm9xeYs3",
        "outputId": "081420c5-8574-4f98-f2ae-85a585ea1e89"
      },
      "outputs": [
        {
          "output_type": "stream",
          "name": "stdout",
          "text": [
            "Student Name: Moid\n",
            "Marks: 80\n"
          ]
        }
      ],
      "source": [
        "class Student:\n",
        "    def __init__(self, name, marks):\n",
        "        self.name = name\n",
        "        self.marks = marks\n",
        "\n",
        "    def display(self):\n",
        "        print(f\"Student Name: {self.name}\")\n",
        "        print(f\"Marks: {self.marks}\")\n",
        "\n",
        "student1 = Student(\"Moid\", 80)\n",
        "student1.display()"
      ]
    },
    {
      "cell_type": "markdown",
      "source": [
        "## **2. Using cls**"
      ],
      "metadata": {
        "id": "yIFVSHtLi4ZD"
      }
    },
    {
      "cell_type": "code",
      "source": [
        "class Counter:\n",
        "    count = 0\n",
        "\n",
        "    def __init__(self):\n",
        "        Counter.count += 1\n",
        "\n",
        "    @classmethod\n",
        "    def display_count(cls):\n",
        "        print(f\"Total objects created: {cls.count}\")\n",
        "\n",
        "object1 = Counter()\n",
        "object2 = Counter()\n",
        "object3 = Counter()\n",
        "\n",
        "Counter.display_count()"
      ],
      "metadata": {
        "colab": {
          "base_uri": "https://localhost:8080/"
        },
        "id": "P8Ptyn5Di-A-",
        "outputId": "94ae44bf-d558-4cbc-870c-7ee0db221b73"
      },
      "execution_count": 6,
      "outputs": [
        {
          "output_type": "stream",
          "name": "stdout",
          "text": [
            "Total objects created: 3\n"
          ]
        }
      ]
    },
    {
      "cell_type": "markdown",
      "source": [
        "## **3. Public Variables and Methods**"
      ],
      "metadata": {
        "id": "TDuOM27tlSBU"
      }
    },
    {
      "cell_type": "code",
      "source": [
        "class Car:\n",
        "    def __init__(self, brand):\n",
        "        self.brand = brand\n",
        "\n",
        "    def start(self):\n",
        "        print(f\"The {self.brand} car is starting.\")\n",
        "\n",
        "my_car = Car(\"Honda\")\n",
        "print(f\"Car Brand: {my_car.brand}\")\n",
        "my_car.start()"
      ],
      "metadata": {
        "colab": {
          "base_uri": "https://localhost:8080/"
        },
        "id": "QFsSLp5TlVtc",
        "outputId": "993f349a-8820-49ef-b7fb-8f0d7d8fe57c"
      },
      "execution_count": 5,
      "outputs": [
        {
          "output_type": "stream",
          "name": "stdout",
          "text": [
            "Car Brand: Honda\n",
            "The Honda car is starting.\n"
          ]
        }
      ]
    },
    {
      "cell_type": "markdown",
      "source": [
        "## **4. Class Variables and Class Methods**"
      ],
      "metadata": {
        "id": "MD5b7ZvEml62"
      }
    },
    {
      "cell_type": "code",
      "source": [
        "class Bank:\n",
        "    bank_name = \"Default Bank\"\n",
        "\n",
        "    @classmethod\n",
        "    def change_bank_name(cls, name):\n",
        "        cls.bank_name = name\n",
        "\n",
        "bank1 = Bank()\n",
        "bank2 = Bank()\n",
        "\n",
        "print(f\"Bank1 Name: {bank1.bank_name}\")\n",
        "print(f\"Bank2 Name: {bank2.bank_name}\")\n",
        "\n",
        "Bank.change_bank_name(\"New Bank\")\n",
        "\n",
        "print(f\"\\nAfter changing bank name:\")\n",
        "print(f\"Bank1 Name: {bank1.bank_name}\")\n",
        "print(f\"Bank2 Name: {bank2.bank_name}\")"
      ],
      "metadata": {
        "colab": {
          "base_uri": "https://localhost:8080/"
        },
        "id": "WdjA7Wszmpbp",
        "outputId": "2295f9ef-111b-4766-af35-7a1c71c305fb"
      },
      "execution_count": 8,
      "outputs": [
        {
          "output_type": "stream",
          "name": "stdout",
          "text": [
            "Bank1 Name: Default Bank\n",
            "Bank2 Name: Default Bank\n",
            "\n",
            "After changing bank name:\n",
            "Bank1 Name: New Bank\n",
            "Bank2 Name: New Bank\n"
          ]
        }
      ]
    },
    {
      "cell_type": "markdown",
      "source": [
        "## **5. Static Variables and Static Methods**"
      ],
      "metadata": {
        "id": "jh0gJZ7opjT_"
      }
    },
    {
      "cell_type": "code",
      "source": [
        "class MathUtils:\n",
        "    @staticmethod\n",
        "    def add(a, b):\n",
        "        return a + b\n",
        "\n",
        "# Example usage:\n",
        "result = MathUtils.add(5, 3)\n",
        "print(result)"
      ],
      "metadata": {
        "colab": {
          "base_uri": "https://localhost:8080/"
        },
        "id": "UPdlDsiMpnSm",
        "outputId": "523e5e36-fff5-4329-ac6a-06f9e652606e"
      },
      "execution_count": 9,
      "outputs": [
        {
          "output_type": "stream",
          "name": "stdout",
          "text": [
            "8\n"
          ]
        }
      ]
    },
    {
      "cell_type": "markdown",
      "source": [
        "## **6. Constructors and Destructors**"
      ],
      "metadata": {
        "id": "PBllFgAbqheX"
      }
    },
    {
      "cell_type": "code",
      "source": [
        "class Logger:\n",
        "    def __init__(self):\n",
        "        print(\"Logger object created\")\n",
        "\n",
        "    def __del__(self):\n",
        "        print(\"Logger object destroyed\")\n",
        "\n",
        "# Example usage:\n",
        "logger = Logger()\n",
        "del logger"
      ],
      "metadata": {
        "colab": {
          "base_uri": "https://localhost:8080/"
        },
        "id": "PCEw4W28qyBU",
        "outputId": "6ea871b1-6fb7-403d-a097-a9cd517a9a1d"
      },
      "execution_count": 10,
      "outputs": [
        {
          "output_type": "stream",
          "name": "stdout",
          "text": [
            "Logger object created\n",
            "Logger object destroyed\n"
          ]
        }
      ]
    },
    {
      "cell_type": "markdown",
      "source": [
        "## **7. Access Modifiers: Public, Private, and Protected**"
      ],
      "metadata": {
        "id": "rvONVQE0sTiS"
      }
    },
    {
      "cell_type": "code",
      "source": [
        "class Employee:\n",
        "    def __init__(self, name, salary, ssn):\n",
        "        self.name = name         # Public variable\n",
        "        self._salary = salary    # Protected variable\n",
        "        self.__ssn = ssn        # Private variable\n",
        "\n",
        "\n",
        "emp = Employee(\"Moid Uddin\", 50000, \"123-45-6789\")\n",
        "\n",
        "\n",
        "print(emp.name)  # Public access\n",
        "\n",
        "print(emp._salary)  # Protected access, not recommended\n",
        "\n",
        "# print(emp.__ssn)  # Error: private variable can't be accessed directly\n",
        "\n",
        "# Access private variable using name mangling\n",
        "print(emp._Employee__ssn)  # Works due to name mangling"
      ],
      "metadata": {
        "colab": {
          "base_uri": "https://localhost:8080/"
        },
        "id": "7kIL59qztLPc",
        "outputId": "51c1d9b3-b5db-430a-bf8d-e4fbe0878ca1"
      },
      "execution_count": 13,
      "outputs": [
        {
          "output_type": "stream",
          "name": "stdout",
          "text": [
            "Moid Uddin\n",
            "50000\n",
            "123-45-6789\n"
          ]
        }
      ]
    },
    {
      "cell_type": "markdown",
      "source": [
        "## **8. The super() Function**"
      ],
      "metadata": {
        "id": "q9dKgeftu2rv"
      }
    },
    {
      "cell_type": "code",
      "source": [
        "class Person:\n",
        "    def __init__(self, name):\n",
        "        self.name = name\n",
        "\n",
        "\n",
        "class Teacher(Person):\n",
        "    def __init__(self, name, subject):\n",
        "        super().__init__(name)\n",
        "        self.subject = subject\n",
        "\n",
        "\n",
        "# Example usage\n",
        "t1 = Teacher(\"Javed\", \"Math\")\n",
        "print(t1.name)\n",
        "print(t1.subject)"
      ],
      "metadata": {
        "colab": {
          "base_uri": "https://localhost:8080/"
        },
        "id": "zvyFBXjHu9Zr",
        "outputId": "264d5451-164c-4a04-f0a1-9d93a05af248"
      },
      "execution_count": 14,
      "outputs": [
        {
          "output_type": "stream",
          "name": "stdout",
          "text": [
            "Javed\n",
            "Math\n"
          ]
        }
      ]
    },
    {
      "cell_type": "markdown",
      "source": [
        "## **9. Abstract Classes and Methods**"
      ],
      "metadata": {
        "id": "NxPuR2toxNcP"
      }
    },
    {
      "cell_type": "code",
      "source": [
        "from abc import ABC, abstractmethod\n",
        "\n",
        "class Shape(ABC):\n",
        "    @abstractmethod\n",
        "    def area(self):\n",
        "        pass\n",
        "\n",
        "\n",
        "class Rectangle(Shape):\n",
        "    def __init__(self, width, height):\n",
        "        self.width = width\n",
        "        self.height = height\n",
        "\n",
        "    def area(self):\n",
        "        return self.width * self.height\n",
        "\n",
        "\n",
        "# Example usage\n",
        "rect = Rectangle(5, 4)\n",
        "print(rect.area())"
      ],
      "metadata": {
        "colab": {
          "base_uri": "https://localhost:8080/"
        },
        "id": "dv85lgxBxTHl",
        "outputId": "25fd876d-a008-47d4-ea05-77826b49682d"
      },
      "execution_count": 15,
      "outputs": [
        {
          "output_type": "stream",
          "name": "stdout",
          "text": [
            "20\n"
          ]
        }
      ]
    },
    {
      "cell_type": "markdown",
      "source": [
        "## **10. Instance Methods**"
      ],
      "metadata": {
        "id": "KaQCV6ikyr_7"
      }
    },
    {
      "cell_type": "code",
      "source": [
        "class Dog:\n",
        "    def __init__(self, name, breed):\n",
        "        self.name = name\n",
        "        self.breed = breed\n",
        "\n",
        "    def bark(self):\n",
        "        print(f\"{self.name} is barking!\")\n",
        "\n",
        "\n",
        "# Example usage\n",
        "dog1 = Dog(\"Bruno\", \"Labrador\")\n",
        "dog1.bark()"
      ],
      "metadata": {
        "colab": {
          "base_uri": "https://localhost:8080/"
        },
        "id": "y7GMqSI6y0o_",
        "outputId": "535a4cec-b867-468e-81f1-02d4d1fd4126"
      },
      "execution_count": 16,
      "outputs": [
        {
          "output_type": "stream",
          "name": "stdout",
          "text": [
            "Bruno is barking!\n"
          ]
        }
      ]
    },
    {
      "cell_type": "markdown",
      "source": [
        "## **11. Class Methods**"
      ],
      "metadata": {
        "id": "CtF84mv_0aJ1"
      }
    },
    {
      "cell_type": "code",
      "source": [
        "class Book:\n",
        "    total_books = 0\n",
        "\n",
        "    def __init__(self, title):\n",
        "        self.title = title\n",
        "        Book.increment_book_count()\n",
        "\n",
        "    @classmethod\n",
        "    def increment_book_count(cls):\n",
        "        cls.total_books += 1\n",
        "\n",
        "\n",
        "# Example usage\n",
        "b1 = Book(\"Python Basics\")\n",
        "b2 = Book(\"Advanced Python\")\n",
        "\n",
        "print(Book.total_books)"
      ],
      "metadata": {
        "colab": {
          "base_uri": "https://localhost:8080/"
        },
        "id": "gYceN9rf0dID",
        "outputId": "5014db69-11cc-47a2-c00d-e7412d2792f8"
      },
      "execution_count": 17,
      "outputs": [
        {
          "output_type": "stream",
          "name": "stdout",
          "text": [
            "2\n"
          ]
        }
      ]
    },
    {
      "cell_type": "markdown",
      "source": [
        "## **12. Static Methods**"
      ],
      "metadata": {
        "id": "DeJpy0X91wGk"
      }
    },
    {
      "cell_type": "code",
      "source": [
        "class TemperatureConverter:\n",
        "    @staticmethod\n",
        "    def celsius_to_fahrenheit(c):\n",
        "        return (c * 9/5) + 32\n",
        "\n",
        "\n",
        "# Example usage\n",
        "temp_f = TemperatureConverter.celsius_to_fahrenheit(25)\n",
        "print(temp_f)"
      ],
      "metadata": {
        "colab": {
          "base_uri": "https://localhost:8080/"
        },
        "id": "bhm4UwcE135p",
        "outputId": "97994460-b29f-4288-fd15-d9df1389596d"
      },
      "execution_count": 18,
      "outputs": [
        {
          "output_type": "stream",
          "name": "stdout",
          "text": [
            "77.0\n"
          ]
        }
      ]
    },
    {
      "cell_type": "markdown",
      "source": [
        "## **13. Composition**"
      ],
      "metadata": {
        "id": "1WWKLBoA2h7K"
      }
    },
    {
      "cell_type": "code",
      "source": [
        "class Engine:\n",
        "    def start(self):\n",
        "        print(\"Engine started\")\n",
        "\n",
        "\n",
        "class Car:\n",
        "    def __init__(self, engine):\n",
        "        self.engine = engine\n",
        "\n",
        "    def start_car(self):\n",
        "        self.engine.start()\n",
        "\n",
        "\n",
        "# Example usage\n",
        "engine = Engine()\n",
        "car = Car(engine)\n",
        "car.start_car()"
      ],
      "metadata": {
        "colab": {
          "base_uri": "https://localhost:8080/"
        },
        "id": "kevO-wia2np8",
        "outputId": "389d61a9-beb6-4b4c-98df-b2f9577601df"
      },
      "execution_count": 19,
      "outputs": [
        {
          "output_type": "stream",
          "name": "stdout",
          "text": [
            "Engine started\n"
          ]
        }
      ]
    },
    {
      "cell_type": "markdown",
      "source": [
        "## **14. Aggregation**"
      ],
      "metadata": {
        "id": "sjFOCb354Wwu"
      }
    },
    {
      "cell_type": "code",
      "source": [
        "class Employee:\n",
        "    def __init__(self, name):\n",
        "        self.name = name\n",
        "\n",
        "\n",
        "class Department:\n",
        "    def __init__(self, dept_name, employee):\n",
        "        self.dept_name = dept_name\n",
        "        self.employee = employee\n",
        "\n",
        "emp = Employee(\"Moid Uddin\")\n",
        "\n",
        "dept = Department(\"IT\", emp)\n",
        "\n",
        "# Example usage\n",
        "print(dept.dept_name)\n",
        "print(dept.employee.name)"
      ],
      "metadata": {
        "colab": {
          "base_uri": "https://localhost:8080/"
        },
        "id": "dFBfj_pW4aw1",
        "outputId": "737c2858-717a-4ceb-8772-b17416eceb3d"
      },
      "execution_count": 20,
      "outputs": [
        {
          "output_type": "stream",
          "name": "stdout",
          "text": [
            "IT\n",
            "Moid Uddin\n"
          ]
        }
      ]
    },
    {
      "cell_type": "markdown",
      "source": [
        "## **15. Method Resolution Order (MRO) and Diamond Inheritance**"
      ],
      "metadata": {
        "id": "3eHyT4fs9D3J"
      }
    },
    {
      "cell_type": "code",
      "source": [
        "class A:\n",
        "    def show(self):\n",
        "        print(\"This is class A\")\n",
        "\n",
        "class B(A):\n",
        "    def show(self):\n",
        "        print(\"This is class B\")\n",
        "\n",
        "class C(A):\n",
        "    def show(self):\n",
        "        print(\"This is class C\")\n",
        "\n",
        "class D(B, C):\n",
        "    pass\n",
        "\n",
        "obj = D()\n",
        "obj.show()"
      ],
      "metadata": {
        "colab": {
          "base_uri": "https://localhost:8080/"
        },
        "id": "iZpfjY6R9Hya",
        "outputId": "b662614a-2d0a-4b3b-8a1d-01f89898e4a2"
      },
      "execution_count": 35,
      "outputs": [
        {
          "output_type": "stream",
          "name": "stdout",
          "text": [
            "This is class B\n"
          ]
        }
      ]
    },
    {
      "cell_type": "markdown",
      "source": [
        "## **16. Function Decorators**"
      ],
      "metadata": {
        "id": "MvpVw6UaEe4E"
      }
    },
    {
      "cell_type": "code",
      "source": [
        "def log_function_call(func):\n",
        "    def wrapper():\n",
        "        print(\"Function is being called\")\n",
        "        return func()\n",
        "    return wrapper\n",
        "\n",
        "\n",
        "@log_function_call\n",
        "def say_hello():\n",
        "    print(\"Hello!\")\n",
        "\n",
        "say_hello()"
      ],
      "metadata": {
        "colab": {
          "base_uri": "https://localhost:8080/"
        },
        "id": "OpIcGTwvElat",
        "outputId": "4775fe4e-eb12-4614-c176-f6b623b0c171"
      },
      "execution_count": 24,
      "outputs": [
        {
          "output_type": "stream",
          "name": "stdout",
          "text": [
            "Function is being called\n",
            "Hello!\n"
          ]
        }
      ]
    },
    {
      "cell_type": "markdown",
      "source": [
        "## **17. Class Decorators**"
      ],
      "metadata": {
        "id": "hHz_EcZwGXoh"
      }
    },
    {
      "cell_type": "code",
      "source": [
        "def add_greeting(cls):\n",
        "    def greet(self):\n",
        "        return \"Hello from Decorator!\"\n",
        "\n",
        "    cls.greet = greet\n",
        "    return cls\n",
        "\n",
        "@add_greeting\n",
        "class Person:\n",
        "    def __init__(self, name):\n",
        "        self.name = name\n",
        "\n",
        "\n",
        "p = Person(\"Moid\")\n",
        "print(p.greet())"
      ],
      "metadata": {
        "colab": {
          "base_uri": "https://localhost:8080/"
        },
        "id": "rbRfSXc3GupF",
        "outputId": "d05cdca3-9039-46f6-db90-3d678137529e"
      },
      "execution_count": 28,
      "outputs": [
        {
          "output_type": "stream",
          "name": "stdout",
          "text": [
            "Hello from Decorator!\n"
          ]
        }
      ]
    },
    {
      "cell_type": "markdown",
      "source": [
        "## **18. Property Decorators: @property, @setter, and @deleter**"
      ],
      "metadata": {
        "id": "drYhHu4gJWul"
      }
    },
    {
      "cell_type": "code",
      "source": [
        "class Product:\n",
        "    def __init__(self, price):\n",
        "        self._price = price\n",
        "\n",
        "    @property\n",
        "    def price(self):\n",
        "        return self._price\n",
        "\n",
        "    @price.setter\n",
        "    def price(self, value):\n",
        "        self._price = value\n",
        "\n",
        "    @price.deleter\n",
        "    def price(self):\n",
        "        del self._price\n",
        "\n",
        "#Example Usage\n",
        "p = Product(100)\n",
        "print(p.price)\n",
        "\n",
        "p.price = 150\n",
        "print(p.price)\n",
        "\n",
        "del p.price"
      ],
      "metadata": {
        "colab": {
          "base_uri": "https://localhost:8080/"
        },
        "id": "mcVgHjatJaDA",
        "outputId": "e5798bf9-83db-4777-a8a4-e1eee87d8e01"
      },
      "execution_count": 30,
      "outputs": [
        {
          "output_type": "stream",
          "name": "stdout",
          "text": [
            "100\n",
            "150\n"
          ]
        }
      ]
    },
    {
      "cell_type": "markdown",
      "source": [
        "## **19. callable() and __call__()**"
      ],
      "metadata": {
        "id": "8HDH4JtePyOI"
      }
    },
    {
      "cell_type": "code",
      "source": [
        "class Multiplier:\n",
        "    def __init__(self, factor):\n",
        "        self.factor = factor\n",
        "\n",
        "    def __call__(self, num):\n",
        "        return num * self.factor\n",
        "\n",
        "multiplier = Multiplier(5)\n",
        "\n",
        "print(callable(multiplier))\n",
        "print(multiplier(10))"
      ],
      "metadata": {
        "colab": {
          "base_uri": "https://localhost:8080/"
        },
        "id": "_8PeSu_lP0a2",
        "outputId": "48e966ad-32dd-45a8-de23-830efd3e3771"
      },
      "execution_count": 32,
      "outputs": [
        {
          "output_type": "stream",
          "name": "stdout",
          "text": [
            "True\n",
            "50\n"
          ]
        }
      ]
    },
    {
      "cell_type": "markdown",
      "source": [
        "## **20. Creating a Custom Exception**"
      ],
      "metadata": {
        "id": "O3BdFes1RryN"
      }
    },
    {
      "cell_type": "code",
      "source": [
        "class InvalidAgeError(Exception):\n",
        "    pass\n",
        "\n",
        "def check_age(age):\n",
        "    if age < 18:\n",
        "        raise InvalidAgeError(\"Age must be 18 or older.\")\n",
        "    else:\n",
        "        print(\"Age is valid.\")\n",
        "\n",
        "try:\n",
        "    age = int(input(\"Enter your age: \"))\n",
        "    check_age(age)\n",
        "except InvalidAgeError as e:\n",
        "    print(f\"Invalid age: {e}\")\n",
        "except ValueError:\n",
        "    print(\"Please enter a valid number for age.\")"
      ],
      "metadata": {
        "colab": {
          "base_uri": "https://localhost:8080/"
        },
        "id": "vsWlyueJRyNZ",
        "outputId": "48bf14a6-bd37-4cea-e682-0c1496ca320d"
      },
      "execution_count": 33,
      "outputs": [
        {
          "output_type": "stream",
          "name": "stdout",
          "text": [
            "Enter your age: 17\n",
            "Invalid age: Age must be 18 or older.\n"
          ]
        }
      ]
    },
    {
      "cell_type": "markdown",
      "source": [
        "## **21. Make a Custom Class Iterable**"
      ],
      "metadata": {
        "id": "PMf9YvpqS4U_"
      }
    },
    {
      "cell_type": "code",
      "source": [
        "class Countdown:\n",
        "    def __init__(self, start):\n",
        "        self.start = start\n",
        "\n",
        "    def __iter__(self):\n",
        "        return self\n",
        "\n",
        "    def __next__(self):\n",
        "        if self.start <= 0:\n",
        "            raise StopIteration\n",
        "        else:\n",
        "            current = self.start\n",
        "            self.start -= 1\n",
        "            return current\n",
        "\n",
        "# Example usage:\n",
        "countdown = Countdown(5)\n",
        "\n",
        "for number in countdown:\n",
        "    print(number)\n"
      ],
      "metadata": {
        "colab": {
          "base_uri": "https://localhost:8080/"
        },
        "id": "WeUPuKIzTAnd",
        "outputId": "549881a6-04f7-4d53-eedf-6199a5b61405"
      },
      "execution_count": 34,
      "outputs": [
        {
          "output_type": "stream",
          "name": "stdout",
          "text": [
            "5\n",
            "4\n",
            "3\n",
            "2\n",
            "1\n"
          ]
        }
      ]
    }
  ]
}